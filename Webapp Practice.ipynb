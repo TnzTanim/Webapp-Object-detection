{
 "cells": [
  {
   "cell_type": "code",
   "execution_count": null,
   "id": "4b65e11f",
   "metadata": {},
   "outputs": [],
   "source": [
    "from flask import Flask, render_template, request, jsonify\n",
    "from waitress import serve\n",
    "from PIL import Image\n",
    "from ultralytics import YOLO \n",
    "\n",
    "app = Flask(__name__)\n",
    "\n",
    "@app.route(\"/\")\n",
    "def root():\n",
    "    \"\"\"\n",
    "    Site main page handler function.\n",
    "    :return: Content of index.html file\n",
    "    \"\"\"\n",
    "    with open(\"index.html\") as file:\n",
    "        return file.read()\n",
    "\n",
    "\n",
    "@app.route(\"/detect\", methods=[\"POST\"])\n",
    "def detect():\n",
    "    \"\"\"\n",
    "    Handler of /detect POST endpoint\n",
    "    Receives uploaded file with a name \"image_file\", passes it\n",
    "    through YOLOv8 object detection network and returns an object\n",
    "    indicating whether a detection is present.\n",
    "    :return: a JSON object indicating whether a detection is present\n",
    "    \"\"\"\n",
    "    buf = request.files[\"image_file\"]\n",
    "    detection_present = detect_objects_on_image(buf.stream)\n",
    "    return jsonify({\"detection_present\": detection_present})\n",
    "\n",
    "\n",
    "def detect_objects_on_image(buf):\n",
    "    \"\"\"\n",
    "    Function receives an image,\n",
    "    passes it through YOLOv8 neural network\n",
    "    and returns a boolean indicating whether a detection is present.\n",
    "    :param buf: Input image file stream\n",
    "    :return: Boolean indicating whether a detection is present\n",
    "    \"\"\"\n",
    "    model = YOLO(\"best.pt\")\n",
    "    results = model.predict(Image.open(buf))\n",
    "    result = results[0]\n",
    "    return len(result.boxes) > 0\n",
    "\n",
    "\n",
    "if __name__ == '__main__':\n",
    "    serve(app, host='0.0.0.0', port=8080)\n"
   ]
  },
  {
   "cell_type": "code",
   "execution_count": null,
   "id": "1460ee70",
   "metadata": {},
   "outputs": [],
   "source": []
  },
  {
   "cell_type": "code",
   "execution_count": null,
   "id": "eea872dd",
   "metadata": {},
   "outputs": [],
   "source": []
  }
 ],
 "metadata": {
  "kernelspec": {
   "display_name": "Python 3 (ipykernel)",
   "language": "python",
   "name": "python3"
  },
  "language_info": {
   "codemirror_mode": {
    "name": "ipython",
    "version": 3
   },
   "file_extension": ".py",
   "mimetype": "text/x-python",
   "name": "python",
   "nbconvert_exporter": "python",
   "pygments_lexer": "ipython3",
   "version": "3.9.0"
  }
 },
 "nbformat": 4,
 "nbformat_minor": 5
}
